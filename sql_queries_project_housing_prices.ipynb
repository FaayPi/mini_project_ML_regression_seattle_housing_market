{
 "cells": [
  {
   "cell_type": "code",
   "execution_count": 4,
   "id": "8bcf6f7d",
   "metadata": {},
   "outputs": [
    {
     "name": "stdout",
     "output_type": "stream",
     "text": [
      "           id                 date  bedrooms  bathrooms  sqft_living  \\\n",
      "0  7129300520  2014-10-13 00:00:00         3       1.00         1180   \n",
      "1  6414100192  2014-12-09 00:00:00         3       2.25         2570   \n",
      "2  5631500400  2015-02-25 00:00:00         2       1.00          770   \n",
      "3  2487200875  2014-12-09 00:00:00         4       3.00         1960   \n",
      "4  1954400510  2015-02-18 00:00:00         3       2.00         1680   \n",
      "\n",
      "   sqft_lot  floors  waterfront  view  condition  ...  sqft_above  \\\n",
      "0      5650     1.0           0     0          3  ...        1180   \n",
      "1      7242     2.0           0     0          3  ...        2170   \n",
      "2     10000     1.0           0     0          3  ...         770   \n",
      "3      5000     1.0           0     0          5  ...        1050   \n",
      "4      8080     1.0           0     0          3  ...        1680   \n",
      "\n",
      "   sqft_basement  yr_built  yr_renovated  zipcode      lat     long  \\\n",
      "0              0      1955             0    98178  47.5112 -122.257   \n",
      "1            400      1951          1991    98125  47.7210 -122.319   \n",
      "2              0      1933             0    98028  47.7379 -122.233   \n",
      "3            910      1965             0    98136  47.5208 -122.393   \n",
      "4              0      1987             0    98074  47.6168 -122.045   \n",
      "\n",
      "   sqft_living15  sqft_lot15   price  \n",
      "0           1340        5650  221900  \n",
      "1           1690        7639  538000  \n",
      "2           2720        8062  180000  \n",
      "3           1360        5000  604000  \n",
      "4           1800        7503  510000  \n",
      "\n",
      "[5 rows x 21 columns]\n"
     ]
    }
   ],
   "source": [
    "import sqlite3\n",
    "import pandas as pd\n",
    "\n",
    "df = pd.read_excel(\"/Users/feepieper/Library/CloudStorage/OneDrive-Persönlich/Ironhack/Module4/projects/mini-project-dsai-ml-regression/data/regression_data.xls\")\n",
    "\n",
    "conn = sqlite3.connect(\"house_price_regression.db\")\n",
    "cursor = conn.cursor()\n",
    "\n",
    "# Create table\n",
    "cursor.execute(\"\"\"\n",
    "CREATE TABLE IF NOT EXISTS house_price_data (\n",
    "    id INTEGER PRIMARY KEY,\n",
    "    date TEXT,\n",
    "    bedrooms INTEGER,\n",
    "    bathrooms REAL,\n",
    "    sqft_living INTEGER,\n",
    "    sqft_lot INTEGER,\n",
    "    floors REAL,\n",
    "    waterfront TEXT,\n",
    "    view INTEGER,\n",
    "    condition INTEGER,\n",
    "    grade INTEGER,\n",
    "    sqft_above INTEGER,\n",
    "    sqft_basement INTEGER,\n",
    "    yr_built INTEGER,\n",
    "    yr_renovated INTEGER,\n",
    "    zipcode TEXT,\n",
    "    lat REAL,\n",
    "    long REAL,\n",
    "    sqft_living15 INTEGER,\n",
    "    sqft_lot15 INTEGER,\n",
    "    price REAL\n",
    ")\n",
    "\"\"\")\n",
    "\n",
    "# insert data from excel in table\n",
    "df.to_sql(\"house_price_data\", conn, if_exists=\"replace\", index=False)\n",
    "\n",
    "# check if data was inserted\n",
    "result = pd.read_sql_query(\"SELECT * FROM house_price_data LIMIT 5\", conn)\n",
    "print(result)\n"
   ]
  },
  {
   "cell_type": "code",
   "execution_count": null,
   "id": "678d0e39",
   "metadata": {},
   "outputs": [
    {
     "name": "stdout",
     "output_type": "stream",
     "text": [
      "           id  bedrooms  bathrooms  sqft_living  sqft_lot  floors  waterfront  \\\n",
      "0  7129300520         3       1.00         1180      5650     1.0           0   \n",
      "1  6414100192         3       2.25         2570      7242     2.0           0   \n",
      "2  5631500400         2       1.00          770     10000     1.0           0   \n",
      "3  2487200875         4       3.00         1960      5000     1.0           0   \n",
      "4  1954400510         3       2.00         1680      8080     1.0           0   \n",
      "5  7237550310         4       4.50         5420    101930     1.0           0   \n",
      "6  1321400060         3       2.25         1715      6819     2.0           0   \n",
      "7  2008000270         3       1.50         1060      9711     1.0           0   \n",
      "8  2414600126         3       1.00         1780      7470     1.0           0   \n",
      "9  3793500160         3       2.50         1890      6560     2.0           0   \n",
      "\n",
      "   view  condition  grade  sqft_above  sqft_basement  yr_built  yr_renovated  \\\n",
      "0     0          3      7        1180              0      1955             0   \n",
      "1     0          3      7        2170            400      1951          1991   \n",
      "2     0          3      6         770              0      1933             0   \n",
      "3     0          5      7        1050            910      1965             0   \n",
      "4     0          3      8        1680              0      1987             0   \n",
      "5     0          3     11        3890           1530      2001             0   \n",
      "6     0          3      7        1715              0      1995             0   \n",
      "7     0          3      7        1060              0      1963             0   \n",
      "8     0          3      7        1050            730      1960             0   \n",
      "9     0          3      7        1890              0      2003             0   \n",
      "\n",
      "   zipcode      lat     long  sqft_living15  sqft_lot15    price  \n",
      "0    98178  47.5112 -122.257           1340        5650   221900  \n",
      "1    98125  47.7210 -122.319           1690        7639   538000  \n",
      "2    98028  47.7379 -122.233           2720        8062   180000  \n",
      "3    98136  47.5208 -122.393           1360        5000   604000  \n",
      "4    98074  47.6168 -122.045           1800        7503   510000  \n",
      "5    98053  47.6561 -122.005           4760      101930  1230000  \n",
      "6    98003  47.3097 -122.327           2238        6819   257500  \n",
      "7    98198  47.4095 -122.315           1650        9711   291850  \n",
      "8    98146  47.5123 -122.337           1780        8113   229500  \n",
      "9    98038  47.3684 -122.031           2390        7570   323000  \n",
      "   total_rows\n",
      "0       21597\n"
     ]
    }
   ],
   "source": [
    "# ALTER TABLE: Drop the \"date\" column --> creatinf table without \"date\" column\n",
    "cursor.execute(\"\"\"\n",
    "CREATE TABLE IF NOT EXISTS house_price_data_new AS\n",
    "SELECT id, bedrooms, bathrooms, sqft_living, sqft_lot, floors, waterfront, view, condition,\n",
    "       grade, sqft_above, sqft_basement, yr_built, yr_renovated, zipcode, lat, long, sqft_living15,\n",
    "       sqft_lot15, price\n",
    "FROM house_price_data;\n",
    "\"\"\")\n",
    "\n",
    "# Drop the old table\n",
    "cursor.execute(\"DROP TABLE house_price_data;\")\n",
    "\n",
    "# Rename the new table\n",
    "cursor.execute(\"ALTER TABLE house_price_data_new RENAME TO house_price_data;\")\n",
    "\n",
    "conn.commit()\n",
    "\n",
    "# Check if the column was removed (first 10 rows)\n",
    "result = pd.read_sql_query(\"SELECT * FROM house_price_data LIMIT 10;\", conn)\n",
    "print(result)\n",
    "\n",
    "# Count the total number of rows in the table\n",
    "row_count = pd.read_sql_query(\"SELECT COUNT(*) AS total_rows FROM house_price_data;\", conn)\n",
    "print(row_count)"
   ]
  },
  {
   "cell_type": "markdown",
   "id": "5a3fedc7",
   "metadata": {},
   "source": [
    "# Amount of rows in dataset"
   ]
  },
  {
   "cell_type": "code",
   "execution_count": 13,
   "id": "94f55b12",
   "metadata": {},
   "outputs": [
    {
     "name": "stdout",
     "output_type": "stream",
     "text": [
      "   total_rows\n",
      "0       21597\n"
     ]
    }
   ],
   "source": [
    "query_row_count = \"SELECT COUNT(*) AS total_rows FROM house_price_data;\"\n",
    "row_count = pd.read_sql_query(query_row_count, conn)\n",
    "print(row_count)"
   ]
  },
  {
   "cell_type": "markdown",
   "id": "f27cb8c0",
   "metadata": {},
   "source": [
    "# Unique values"
   ]
  },
  {
   "cell_type": "code",
   "execution_count": null,
   "id": "05bbbf4b",
   "metadata": {},
   "outputs": [
    {
     "name": "stdout",
     "output_type": "stream",
     "text": [
      "Unique bedrooms:\n",
      "    bedrooms\n",
      "0          1\n",
      "1          2\n",
      "2          3\n",
      "3          4\n",
      "4          5\n",
      "5          6\n",
      "6          7\n",
      "7          8\n",
      "8          9\n",
      "9         10\n",
      "10        11\n",
      "11        33\n",
      "\n",
      "Unique bathrooms:\n",
      "    bathrooms\n",
      "0        0.50\n",
      "1        0.75\n",
      "2        1.00\n",
      "3        1.25\n",
      "4        1.50\n",
      "5        1.75\n",
      "6        2.00\n",
      "7        2.25\n",
      "8        2.50\n",
      "9        2.75\n",
      "10       3.00\n",
      "11       3.25\n",
      "12       3.50\n",
      "13       3.75\n",
      "14       4.00\n",
      "15       4.25\n",
      "16       4.50\n",
      "17       4.75\n",
      "18       5.00\n",
      "19       5.25\n",
      "20       5.50\n",
      "21       5.75\n",
      "22       6.00\n",
      "23       6.25\n",
      "24       6.50\n",
      "25       6.75\n",
      "26       7.50\n",
      "27       7.75\n",
      "28       8.00\n",
      "\n",
      "Unique floors:\n",
      "   floors\n",
      "0     1.0\n",
      "1     1.5\n",
      "2     2.0\n",
      "3     2.5\n",
      "4     3.0\n",
      "5     3.5\n",
      "\n",
      "Unique condition:\n",
      "   condition\n",
      "0          1\n",
      "1          2\n",
      "2          3\n",
      "3          4\n",
      "4          5\n",
      "\n",
      "Unique grade:\n",
      "    grade\n",
      "0       3\n",
      "1       4\n",
      "2       5\n",
      "3       6\n",
      "4       7\n",
      "5       8\n",
      "6       9\n",
      "7      10\n",
      "8      11\n",
      "9      12\n",
      "10     13\n"
     ]
    }
   ],
   "source": [
    "query_bedrooms = \"SELECT DISTINCT bedrooms FROM house_price_data ORDER BY bedrooms;\"\n",
    "bedrooms_unique = pd.read_sql(query_bedrooms, conn)\n",
    "print(\"Unique bedrooms:\")\n",
    "print(bedrooms_unique)\n",
    "\n",
    "query_bathrooms = \"SELECT DISTINCT bathrooms FROM house_price_data ORDER BY bathrooms;\"\n",
    "bathrooms_unique = pd.read_sql(query_bathrooms, conn)\n",
    "print(\"\\nUnique bathrooms:\")\n",
    "print(bathrooms_unique)\n",
    "\n",
    "query_floors = \"SELECT DISTINCT floors FROM house_price_data ORDER BY floors;\"\n",
    "floors_unique = pd.read_sql(query_floors, conn)\n",
    "print(\"\\nUnique floors:\")\n",
    "print(floors_unique)\n",
    "\n",
    "query_condition = \"SELECT DISTINCT condition FROM house_price_data ORDER BY condition;\"\n",
    "condition_unique = pd.read_sql(query_condition, conn)\n",
    "print(\"\\nUnique condition:\")\n",
    "print(condition_unique)\n",
    "\n",
    "query_grade = \"SELECT DISTINCT grade FROM house_price_data ORDER BY grade;\"\n",
    "grade_unique = pd.read_sql(query_grade, conn)\n",
    "print(\"\\nUnique grade:\")\n",
    "print(grade_unique)"
   ]
  },
  {
   "cell_type": "markdown",
   "id": "10ac087f",
   "metadata": {},
   "source": [
    "# Top 10 most expensive houses"
   ]
  },
  {
   "cell_type": "code",
   "execution_count": null,
   "id": "2fbeb5c9",
   "metadata": {},
   "outputs": [
    {
     "name": "stdout",
     "output_type": "stream",
     "text": [
      "           id    price\n",
      "0  6762700020  7700000\n",
      "1  9808700762  7060000\n",
      "2  9208900037  6890000\n",
      "3  2470100110  5570000\n",
      "4  8907500070  5350000\n",
      "5  7558700030  5300000\n",
      "6  1247600105  5110000\n",
      "7  1924059029  4670000\n",
      "8  7738500731  4500000\n",
      "9  3835500195  4490000\n"
     ]
    }
   ],
   "source": [
    "query_top10 = \"\"\"\n",
    "SELECT id, price\n",
    "FROM house_price_data\n",
    "ORDER BY price DESC\n",
    "LIMIT 10;\n",
    "\"\"\"\n",
    "\n",
    "top10_houses = pd.read_sql(query_top10, conn)\n",
    "print(top10_houses)"
   ]
  },
  {
   "cell_type": "markdown",
   "id": "e97a08b0",
   "metadata": {},
   "source": [
    "# Average price of all houses sold"
   ]
  },
  {
   "cell_type": "code",
   "execution_count": 17,
   "id": "e32ac9e3",
   "metadata": {},
   "outputs": [
    {
     "name": "stdout",
     "output_type": "stream",
     "text": [
      "   average_price\n",
      "0      540296.57\n"
     ]
    }
   ],
   "source": [
    "query_average_price = \"\"\"\n",
    "SELECT ROUND(AVG(price),2) AS average_price\n",
    "FROM house_price_data;\n",
    "\"\"\"\n",
    "\n",
    "average_price = pd.read_sql(query_average_price, conn)\n",
    "print(average_price)"
   ]
  },
  {
   "cell_type": "markdown",
   "id": "dd038cbc",
   "metadata": {},
   "source": [
    "# Average price and sqft_living grouped by bedrooms"
   ]
  },
  {
   "cell_type": "code",
   "execution_count": 20,
   "id": "1c328d6a",
   "metadata": {},
   "outputs": [
    {
     "name": "stdout",
     "output_type": "stream",
     "text": [
      "    average_price\n",
      "0       318239.46\n",
      "1       401387.75\n",
      "2       466276.59\n",
      "3       635564.68\n",
      "4       786874.13\n",
      "5       825853.50\n",
      "6       951447.82\n",
      "7      1105076.92\n",
      "8       893999.83\n",
      "9       820000.00\n",
      "10      520000.00\n",
      "11      640000.00\n",
      "    average_sqft_living\n",
      "0                888.15\n",
      "1               1239.75\n",
      "2               1805.84\n",
      "3               2554.65\n",
      "4               3047.55\n",
      "5               3284.34\n",
      "6               3974.21\n",
      "7               3800.00\n",
      "8               3775.00\n",
      "9               3706.67\n",
      "10              3000.00\n",
      "11              1620.00\n"
     ]
    }
   ],
   "source": [
    "query_average_price_by_bedrooms = \"\"\"\n",
    "SELECT ROUND(AVG(price),2) AS average_price\n",
    "FROM house_price_data\n",
    "GROUP BY bedrooms;\n",
    "\"\"\"\n",
    "\n",
    "average_price_by_bedrooms = pd.read_sql(query_average_price_by_bedrooms, conn)\n",
    "print(average_price)\n",
    "\n",
    "query_average_sqft_by_bedrooms = \"\"\"\n",
    "SELECT ROUND(AVG(sqft_living),2) AS average_sqft_living\n",
    "FROM house_price_data\n",
    "GROUP BY bedrooms;\n",
    "\"\"\"\n",
    "\n",
    "average_sqft_by_bedrooms = pd.read_sql(query_average_sqft_by_bedrooms, conn)\n",
    "print(average_sqft_by_bedrooms)"
   ]
  },
  {
   "cell_type": "markdown",
   "id": "cb573be5",
   "metadata": {},
   "source": [
    "# Average Price on waterfront/ no waterfront"
   ]
  },
  {
   "cell_type": "code",
   "execution_count": 21,
   "id": "5bb31b29",
   "metadata": {},
   "outputs": [
    {
     "name": "stdout",
     "output_type": "stream",
     "text": [
      "   waterfront   avg_price\n",
      "0           0   531762.32\n",
      "1           1  1662524.18\n"
     ]
    }
   ],
   "source": [
    "query_avg_waterfront = \"\"\"\n",
    "SELECT \n",
    "    waterfront,\n",
    "    ROUND(AVG(price), 2) AS avg_price\n",
    "FROM \n",
    "    house_price_data\n",
    "GROUP BY \n",
    "    waterfront;\n",
    "\"\"\"\n",
    "\n",
    "avg_waterfront_df = pd.read_sql(query_avg_waterfront, conn)\n",
    "print(avg_waterfront_df)"
   ]
  },
  {
   "cell_type": "code",
   "execution_count": 22,
   "id": "155651d2",
   "metadata": {},
   "outputs": [
    {
     "name": "stdout",
     "output_type": "stream",
     "text": [
      "   condition  avg_grade\n",
      "0          1       5.97\n",
      "1          2       6.54\n",
      "2          3       7.83\n",
      "3          4       7.38\n",
      "4          5       7.32\n"
     ]
    }
   ],
   "source": [
    "query_condition_grade = \"\"\"\n",
    "SELECT \n",
    "    condition,\n",
    "    ROUND(AVG(grade), 2) AS avg_grade\n",
    "FROM \n",
    "    house_price_data\n",
    "GROUP BY \n",
    "    condition\n",
    "ORDER BY \n",
    "    condition;\n",
    "\"\"\"\n",
    "condition_grade_df = pd.read_sql(query_condition_grade, conn)\n",
    "print(condition_grade_df)\n"
   ]
  },
  {
   "cell_type": "markdown",
   "id": "eee75bf9",
   "metadata": {},
   "source": [
    "# Customer Request"
   ]
  },
  {
   "cell_type": "code",
   "execution_count": 23,
   "id": "479d600c",
   "metadata": {},
   "outputs": [
    {
     "name": "stdout",
     "output_type": "stream",
     "text": [
      "Empty DataFrame\n",
      "Columns: [id, bedrooms, bathrooms, sqft_living, sqft_lot, floors, waterfront, view, condition, grade, sqft_above, sqft_basement, yr_built, yr_renovated, zipcode, lat, long, sqft_living15, sqft_lot15, price]\n",
      "Index: []\n"
     ]
    }
   ],
   "source": [
    "query_customer_options = \"\"\"\n",
    "SELECT *\n",
    "FROM house_price_data\n",
    "WHERE \n",
    "    bedrooms IN (3, 4) AND\n",
    "    bathrooms > 3 AND\n",
    "    floors = 1 AND\n",
    "    waterfront = 0 AND\n",
    "    condition >= 3 AND\n",
    "    grade >= 5 AND\n",
    "    price < 300000;\n",
    "\"\"\"\n",
    "\n",
    "customer_options_df = pd.read_sql(query_customer_options, conn)\n",
    "print(customer_options_df)\n"
   ]
  },
  {
   "cell_type": "markdown",
   "id": "96709e9f",
   "metadata": {},
   "source": [
    "# List of properties twice of average"
   ]
  },
  {
   "cell_type": "code",
   "execution_count": null,
   "id": "ff00624d",
   "metadata": {},
   "outputs": [
    {
     "name": "stdout",
     "output_type": "stream",
     "text": [
      "              id    price\n",
      "0     6762700020  7700000\n",
      "1     9808700762  7060000\n",
      "2     9208900037  6890000\n",
      "3     2470100110  5570000\n",
      "4     8907500070  5350000\n",
      "...          ...      ...\n",
      "1241  1326059182  1090000\n",
      "1242  7796000095  1090000\n",
      "1243  4147200040  1090000\n",
      "1244  1121000357  1090000\n",
      "1245  8672200110  1090000\n",
      "\n",
      "[1246 rows x 2 columns]\n"
     ]
    }
   ],
   "source": [
    "query_expensive_properties = \"\"\"\n",
    "SELECT id, price\n",
    "FROM house_price_data\n",
    "WHERE price >= 2 * (SELECT AVG(price) FROM house_price_data)\n",
    "ORDER BY price DESC;\n",
    "\"\"\"\n",
    "\n",
    "expensive_properties_df = pd.read_sql(query_expensive_properties, conn)\n",
    "print(expensive_properties_df)\n"
   ]
  },
  {
   "cell_type": "markdown",
   "id": "273c81cf",
   "metadata": {},
   "source": [
    "# View of list of expensive properties"
   ]
  },
  {
   "cell_type": "code",
   "execution_count": 30,
   "id": "4d7f7d4e",
   "metadata": {},
   "outputs": [
    {
     "name": "stdout",
     "output_type": "stream",
     "text": [
      "              id    price\n",
      "0     6762700020  7700000\n",
      "1     9808700762  7060000\n",
      "2     9208900037  6890000\n",
      "3     2470100110  5570000\n",
      "4     8907500070  5350000\n",
      "...          ...      ...\n",
      "1241  1326059182  1090000\n",
      "1242  7796000095  1090000\n",
      "1243  4147200040  1090000\n",
      "1244  1121000357  1090000\n",
      "1245  8672200110  1090000\n",
      "\n",
      "[1246 rows x 2 columns]\n"
     ]
    }
   ],
   "source": [
    "query_create_view = \"\"\"\n",
    "CREATE VIEW IF NOT EXISTS expensive_properties_view AS\n",
    "SELECT id, price\n",
    "FROM house_price_data\n",
    "WHERE price >= 2 * (SELECT AVG(price) FROM house_price_data)\n",
    "ORDER BY price DESC;\n",
    "\"\"\"\n",
    "\n",
    "expensive_properties_view_df = pd.read_sql(\"SELECT * FROM expensive_properties_view\", conn)\n",
    "print(expensive_properties_view_df)"
   ]
  },
  {
   "cell_type": "markdown",
   "id": "7f887fef",
   "metadata": {},
   "source": [
    "# Difference of Average Price of 3 and 4 bedrooms"
   ]
  },
  {
   "cell_type": "code",
   "execution_count": 31,
   "id": "37d6c79f",
   "metadata": {},
   "outputs": [
    {
     "name": "stdout",
     "output_type": "stream",
     "text": [
      "   bedrooms  avg_price\n",
      "0         3  466276.59\n",
      "1         4  635564.68\n"
     ]
    }
   ],
   "source": [
    "query_avg_price_bedrooms = \"\"\"\n",
    "SELECT bedrooms, ROUND(AVG(price), 2) AS avg_price\n",
    "FROM house_price_data\n",
    "WHERE bedrooms IN (3, 4)\n",
    "GROUP BY bedrooms\n",
    "ORDER BY bedrooms;\n",
    "\"\"\"\n",
    "\n",
    "avg_price_bedrooms_df = pd.read_sql(query_avg_price_bedrooms, conn)\n",
    "print(avg_price_bedrooms_df)"
   ]
  },
  {
   "cell_type": "markdown",
   "id": "4637db2d",
   "metadata": {},
   "source": [
    "# Overview of differen locations"
   ]
  },
  {
   "cell_type": "code",
   "execution_count": 33,
   "id": "bc7d993a",
   "metadata": {},
   "outputs": [
    {
     "name": "stdout",
     "output_type": "stream",
     "text": [
      "    zipcode\n",
      "0     98178\n",
      "1     98125\n",
      "2     98028\n",
      "3     98136\n",
      "4     98074\n",
      "..      ...\n",
      "65    98072\n",
      "66    98188\n",
      "67    98014\n",
      "68    98055\n",
      "69    98039\n",
      "\n",
      "[70 rows x 1 columns]\n"
     ]
    }
   ],
   "source": [
    "query_distinct_zip = \"\"\"\n",
    "SELECT DISTINCT(zipcode)\n",
    "FROM house_price_data;\n",
    "\"\"\"\n",
    "\n",
    "distinct_zip = pd.read_sql(query_distinct_zip, conn)\n",
    "print(distinct_zip)"
   ]
  },
  {
   "cell_type": "markdown",
   "id": "fc64b76d",
   "metadata": {},
   "source": [
    "# Properties renovated"
   ]
  },
  {
   "cell_type": "code",
   "execution_count": 34,
   "id": "b6f1cd71",
   "metadata": {},
   "outputs": [
    {
     "name": "stdout",
     "output_type": "stream",
     "text": [
      "             id\n",
      "0    6414100192\n",
      "1    9547205180\n",
      "2    1483300570\n",
      "3    2450000295\n",
      "4    3626039325\n",
      "..          ...\n",
      "909  7351200295\n",
      "910   126039256\n",
      "911  4305600360\n",
      "912  3319500628\n",
      "913  1278000210\n",
      "\n",
      "[914 rows x 1 columns]\n"
     ]
    }
   ],
   "source": [
    "query_properties_renovated = \"\"\"\n",
    "SELECT id\n",
    "FROM house_price_data\n",
    "WHERE yr_renovated >0;\n",
    "\"\"\"\n",
    "\n",
    "properties_renovated  = pd.read_sql(query_properties_renovated , conn)\n",
    "print(properties_renovated )"
   ]
  },
  {
   "cell_type": "markdown",
   "id": "0512c7d5",
   "metadata": {},
   "source": [
    "# 11th most expensice property"
   ]
  },
  {
   "cell_type": "code",
   "execution_count": 35,
   "id": "88930738",
   "metadata": {},
   "outputs": [
    {
     "name": "stdout",
     "output_type": "stream",
     "text": [
      "           id    price\n",
      "0  6065300370  4210000\n"
     ]
    }
   ],
   "source": [
    "query_rank11_expensive_property = \"\"\"\n",
    "SELECT id, price\n",
    "FROM house_price_data\n",
    "ORDER BY price DESC\n",
    "LIMIT 1 OFFSET 10\n",
    ";\n",
    "\"\"\"\n",
    "\n",
    "rank11_expensive_property  = pd.read_sql(query_rank11_expensive_property, conn)\n",
    "print(rank11_expensive_property)"
   ]
  }
 ],
 "metadata": {
  "kernelspec": {
   "display_name": "base",
   "language": "python",
   "name": "python3"
  },
  "language_info": {
   "codemirror_mode": {
    "name": "ipython",
    "version": 3
   },
   "file_extension": ".py",
   "mimetype": "text/x-python",
   "name": "python",
   "nbconvert_exporter": "python",
   "pygments_lexer": "ipython3",
   "version": "3.12.2"
  }
 },
 "nbformat": 4,
 "nbformat_minor": 5
}
